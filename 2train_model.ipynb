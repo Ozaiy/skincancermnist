{
 "cells": [
  {
   "cell_type": "code",
   "execution_count": 484,
   "metadata": {},
   "outputs": [],
   "source": [
    "import pandas as pd\n",
    "import numpy as np \n",
    "import imageio as iio\n",
    "from PIL import  Image\n",
    "import matplotlib.pyplot as plt\n",
    "from keras.utils import to_categorical\n",
    "from keras.models import Sequential \n",
    "from keras.optimizers import Adam\n",
    "import keras\n",
    "from keras.layers import Dense, Conv2D, Flatten, MaxPooling2D, Input, Dropout\n",
    "from sklearn.preprocessing import LabelEncoder, OneHotEncoder\n",
    "from sklearn.model_selection import train_test_split\n"
   ]
  },
  {
   "cell_type": "code",
   "execution_count": 485,
   "metadata": {},
   "outputs": [],
   "source": [
    "MAX_PICTURES = 1000"
   ]
  },
  {
   "cell_type": "code",
   "execution_count": 486,
   "metadata": {},
   "outputs": [],
   "source": [
    "df = pd.read_csv('merged.csv', index_col=0)"
   ]
  },
  {
   "cell_type": "code",
   "execution_count": 487,
   "metadata": {},
   "outputs": [],
   "source": [
    "df = df.sample(frac=1).reset_index(drop=True)"
   ]
  },
  {
   "cell_type": "code",
   "execution_count": 488,
   "metadata": {},
   "outputs": [],
   "source": [
    "# read first 100 images from dataframe \n",
    "image_list = []\n",
    "for image in df['image_path'][0:MAX_PICTURES]:\n",
    "    im = Image.open(image)\n",
    "    im = im.resize((100,75))\n",
    "    a = np.asarray(im)\n",
    "    image_list.append(a)\n"
   ]
  },
  {
   "cell_type": "code",
   "execution_count": 489,
   "metadata": {},
   "outputs": [
    {
     "data": {
      "text/html": [
       "<div>\n",
       "<style scoped>\n",
       "    .dataframe tbody tr th:only-of-type {\n",
       "        vertical-align: middle;\n",
       "    }\n",
       "\n",
       "    .dataframe tbody tr th {\n",
       "        vertical-align: top;\n",
       "    }\n",
       "\n",
       "    .dataframe thead th {\n",
       "        text-align: right;\n",
       "    }\n",
       "</style>\n",
       "<table border=\"1\" class=\"dataframe\">\n",
       "  <thead>\n",
       "    <tr style=\"text-align: right;\">\n",
       "      <th></th>\n",
       "      <th>lesion_id</th>\n",
       "      <th>image_id</th>\n",
       "      <th>dx</th>\n",
       "      <th>dx_type</th>\n",
       "      <th>age</th>\n",
       "      <th>sex</th>\n",
       "      <th>localization</th>\n",
       "      <th>image_path</th>\n",
       "    </tr>\n",
       "  </thead>\n",
       "  <tbody>\n",
       "    <tr>\n",
       "      <th>0</th>\n",
       "      <td>HAM_0000655</td>\n",
       "      <td>ISIC_0028283</td>\n",
       "      <td>bcc</td>\n",
       "      <td>histo</td>\n",
       "      <td>70.0</td>\n",
       "      <td>female</td>\n",
       "      <td>neck</td>\n",
       "      <td>data/ham10000_images_part_1\\ISIC_0028283.jpg</td>\n",
       "    </tr>\n",
       "    <tr>\n",
       "      <th>1</th>\n",
       "      <td>HAM_0005334</td>\n",
       "      <td>ISIC_0031298</td>\n",
       "      <td>bcc</td>\n",
       "      <td>histo</td>\n",
       "      <td>75.0</td>\n",
       "      <td>male</td>\n",
       "      <td>upper extremity</td>\n",
       "      <td>data/ham10000_images_part_2\\ISIC_0031298.jpg</td>\n",
       "    </tr>\n",
       "    <tr>\n",
       "      <th>2</th>\n",
       "      <td>HAM_0002644</td>\n",
       "      <td>ISIC_0029417</td>\n",
       "      <td>akiec</td>\n",
       "      <td>histo</td>\n",
       "      <td>80.0</td>\n",
       "      <td>female</td>\n",
       "      <td>neck</td>\n",
       "      <td>data/ham10000_images_part_2\\ISIC_0029417.jpg</td>\n",
       "    </tr>\n",
       "    <tr>\n",
       "      <th>3</th>\n",
       "      <td>HAM_0001397</td>\n",
       "      <td>ISIC_0026796</td>\n",
       "      <td>mel</td>\n",
       "      <td>histo</td>\n",
       "      <td>70.0</td>\n",
       "      <td>male</td>\n",
       "      <td>back</td>\n",
       "      <td>data/ham10000_images_part_1\\ISIC_0026796.jpg</td>\n",
       "    </tr>\n",
       "    <tr>\n",
       "      <th>4</th>\n",
       "      <td>HAM_0002194</td>\n",
       "      <td>ISIC_0025814</td>\n",
       "      <td>mel</td>\n",
       "      <td>histo</td>\n",
       "      <td>65.0</td>\n",
       "      <td>male</td>\n",
       "      <td>back</td>\n",
       "      <td>data/ham10000_images_part_1\\ISIC_0025814.jpg</td>\n",
       "    </tr>\n",
       "    <tr>\n",
       "      <th>...</th>\n",
       "      <td>...</td>\n",
       "      <td>...</td>\n",
       "      <td>...</td>\n",
       "      <td>...</td>\n",
       "      <td>...</td>\n",
       "      <td>...</td>\n",
       "      <td>...</td>\n",
       "      <td>...</td>\n",
       "    </tr>\n",
       "    <tr>\n",
       "      <th>10010</th>\n",
       "      <td>HAM_0000952</td>\n",
       "      <td>ISIC_0024546</td>\n",
       "      <td>mel</td>\n",
       "      <td>histo</td>\n",
       "      <td>80.0</td>\n",
       "      <td>female</td>\n",
       "      <td>lower extremity</td>\n",
       "      <td>data/ham10000_images_part_1\\ISIC_0024546.jpg</td>\n",
       "    </tr>\n",
       "    <tr>\n",
       "      <th>10011</th>\n",
       "      <td>HAM_0004753</td>\n",
       "      <td>ISIC_0031884</td>\n",
       "      <td>nv</td>\n",
       "      <td>follow_up</td>\n",
       "      <td>50.0</td>\n",
       "      <td>female</td>\n",
       "      <td>back</td>\n",
       "      <td>data/ham10000_images_part_2\\ISIC_0031884.jpg</td>\n",
       "    </tr>\n",
       "    <tr>\n",
       "      <th>10012</th>\n",
       "      <td>HAM_0000277</td>\n",
       "      <td>ISIC_0029182</td>\n",
       "      <td>nv</td>\n",
       "      <td>histo</td>\n",
       "      <td>60.0</td>\n",
       "      <td>male</td>\n",
       "      <td>chest</td>\n",
       "      <td>data/ham10000_images_part_1\\ISIC_0029182.jpg</td>\n",
       "    </tr>\n",
       "    <tr>\n",
       "      <th>10013</th>\n",
       "      <td>HAM_0003661</td>\n",
       "      <td>ISIC_0026910</td>\n",
       "      <td>nv</td>\n",
       "      <td>follow_up</td>\n",
       "      <td>35.0</td>\n",
       "      <td>female</td>\n",
       "      <td>trunk</td>\n",
       "      <td>data/ham10000_images_part_1\\ISIC_0026910.jpg</td>\n",
       "    </tr>\n",
       "    <tr>\n",
       "      <th>10014</th>\n",
       "      <td>HAM_0004234</td>\n",
       "      <td>ISIC_0029396</td>\n",
       "      <td>bkl</td>\n",
       "      <td>histo</td>\n",
       "      <td>85.0</td>\n",
       "      <td>female</td>\n",
       "      <td>chest</td>\n",
       "      <td>data/ham10000_images_part_2\\ISIC_0029396.jpg</td>\n",
       "    </tr>\n",
       "  </tbody>\n",
       "</table>\n",
       "<p>10015 rows × 8 columns</p>\n",
       "</div>"
      ],
      "text/plain": [
       "         lesion_id      image_id     dx    dx_type   age     sex  \\\n",
       "0      HAM_0000655  ISIC_0028283    bcc      histo  70.0  female   \n",
       "1      HAM_0005334  ISIC_0031298    bcc      histo  75.0    male   \n",
       "2      HAM_0002644  ISIC_0029417  akiec      histo  80.0  female   \n",
       "3      HAM_0001397  ISIC_0026796    mel      histo  70.0    male   \n",
       "4      HAM_0002194  ISIC_0025814    mel      histo  65.0    male   \n",
       "...            ...           ...    ...        ...   ...     ...   \n",
       "10010  HAM_0000952  ISIC_0024546    mel      histo  80.0  female   \n",
       "10011  HAM_0004753  ISIC_0031884     nv  follow_up  50.0  female   \n",
       "10012  HAM_0000277  ISIC_0029182     nv      histo  60.0    male   \n",
       "10013  HAM_0003661  ISIC_0026910     nv  follow_up  35.0  female   \n",
       "10014  HAM_0004234  ISIC_0029396    bkl      histo  85.0  female   \n",
       "\n",
       "          localization                                    image_path  \n",
       "0                 neck  data/ham10000_images_part_1\\ISIC_0028283.jpg  \n",
       "1      upper extremity  data/ham10000_images_part_2\\ISIC_0031298.jpg  \n",
       "2                 neck  data/ham10000_images_part_2\\ISIC_0029417.jpg  \n",
       "3                 back  data/ham10000_images_part_1\\ISIC_0026796.jpg  \n",
       "4                 back  data/ham10000_images_part_1\\ISIC_0025814.jpg  \n",
       "...                ...                                           ...  \n",
       "10010  lower extremity  data/ham10000_images_part_1\\ISIC_0024546.jpg  \n",
       "10011             back  data/ham10000_images_part_2\\ISIC_0031884.jpg  \n",
       "10012            chest  data/ham10000_images_part_1\\ISIC_0029182.jpg  \n",
       "10013            trunk  data/ham10000_images_part_1\\ISIC_0026910.jpg  \n",
       "10014            chest  data/ham10000_images_part_2\\ISIC_0029396.jpg  \n",
       "\n",
       "[10015 rows x 8 columns]"
      ]
     },
     "execution_count": 489,
     "metadata": {},
     "output_type": "execute_result"
    }
   ],
   "source": [
    "df"
   ]
  },
  {
   "cell_type": "code",
   "execution_count": 490,
   "metadata": {},
   "outputs": [],
   "source": [
    "mel_dict = {\n",
    "    'akiec': 'Actinic keratosis-like lesions',\n",
    "    'bcc': 'basal cell carcinoma',\n",
    "    'bkl': 'benign keratosis',\n",
    "    'df': 'dermatofibroma',\n",
    "    'mel': 'melanoma',\n",
    "    'nv': 'melanocytic nevi',\n",
    "    'vasc': 'vascular lesions / hemorrhage'\n",
    "}"
   ]
  },
  {
   "cell_type": "code",
   "execution_count": 491,
   "metadata": {},
   "outputs": [
    {
     "data": {
      "text/plain": [
       "0        bcc\n",
       "1        bcc\n",
       "2      akiec\n",
       "3        mel\n",
       "4        mel\n",
       "       ...  \n",
       "995       nv\n",
       "996      bkl\n",
       "997       nv\n",
       "998    akiec\n",
       "999       nv\n",
       "Name: dx, Length: 1000, dtype: object"
      ]
     },
     "execution_count": 491,
     "metadata": {},
     "output_type": "execute_result"
    }
   ],
   "source": [
    "y = df['dx'][0:MAX_PICTURES]\n",
    "y"
   ]
  },
  {
   "cell_type": "code",
   "execution_count": 492,
   "metadata": {},
   "outputs": [],
   "source": [
    "# map diagnoses to dictionary\n",
    "mel_dict = {\n",
    "    'akiec': 0,\n",
    "    'bcc': 1,\n",
    "    'bkl': 2,\n",
    "    'df': 3,\n",
    "    'mel': 4,\n",
    "    'nv': 5,\n",
    "    'vasc': 6\n",
    "}"
   ]
  },
  {
   "cell_type": "code",
   "execution_count": 493,
   "metadata": {},
   "outputs": [],
   "source": [
    "image_list = np.asarray(image_list)\n",
    "y = y.map(mel_dict)\n",
    "y = to_categorical(y)\n",
    "\n",
    "X_train, X_test, y_train, y_test = train_test_split(image_list, y, test_size=0.20, random_state=42)\n"
   ]
  },
  {
   "cell_type": "code",
   "execution_count": 494,
   "metadata": {},
   "outputs": [],
   "source": [
    "# ALWAYS CONVERT AN ARRAY TO AN NUMPY ARRAY\n",
    "y = np.asarray(y) "
   ]
  },
  {
   "cell_type": "code",
   "execution_count": 495,
   "metadata": {},
   "outputs": [
    {
     "data": {
      "text/plain": [
       "(1000, 7)"
      ]
     },
     "execution_count": 495,
     "metadata": {},
     "output_type": "execute_result"
    }
   ],
   "source": [
    "y.shape"
   ]
  },
  {
   "cell_type": "code",
   "execution_count": 496,
   "metadata": {},
   "outputs": [],
   "source": [
    "input_shape = (75, 100, 3)\n",
    "num_classes = 7\n",
    "\n",
    "model = Sequential()\n",
    "model.add(Conv2D(75, kernel_size=(3, 3),activation='relu',padding = 'Same',input_shape=input_shape))\n",
    "model.add(Conv2D(75, (3, 3), activation='relu'))\n",
    "model.add(MaxPooling2D((2, 2)))\n",
    "model.add(Dropout(0.25))\n",
    "\n",
    "model.add(Conv2D(64, (3, 3), activation='relu'))\n",
    "model.add(Conv2D(64, (3, 3), activation='relu'))\n",
    "model.add(MaxPooling2D((2, 2)))\n",
    "model.add(Dropout(0.40))\n",
    "\n",
    "model.add(Flatten())\n",
    "model.add(Dense(128, activation='relu'))\n",
    "model.add(Dropout(0.5))\n",
    "model.add(Dense(num_classes, activation='softmax'))"
   ]
  },
  {
   "cell_type": "code",
   "execution_count": 497,
   "metadata": {},
   "outputs": [],
   "source": [
    "model.compile(loss='binary_crossentropy', optimizer='adam', metrics=['accuracy'])"
   ]
  },
  {
   "cell_type": "code",
   "execution_count": 498,
   "metadata": {},
   "outputs": [
    {
     "name": "stdout",
     "output_type": "stream",
     "text": [
      "Model: \"sequential_15\"\n",
      "_________________________________________________________________\n",
      " Layer (type)                Output Shape              Param #   \n",
      "=================================================================\n",
      " conv2d_60 (Conv2D)          (None, 75, 100, 75)       2100      \n",
      "                                                                 \n",
      " conv2d_61 (Conv2D)          (None, 73, 98, 75)        50700     \n",
      "                                                                 \n",
      " max_pooling2d_30 (MaxPoolin  (None, 36, 49, 75)       0         \n",
      " g2D)                                                            \n",
      "                                                                 \n",
      " dropout_45 (Dropout)        (None, 36, 49, 75)        0         \n",
      "                                                                 \n",
      " conv2d_62 (Conv2D)          (None, 34, 47, 64)        43264     \n",
      "                                                                 \n",
      " conv2d_63 (Conv2D)          (None, 32, 45, 64)        36928     \n",
      "                                                                 \n",
      " max_pooling2d_31 (MaxPoolin  (None, 16, 22, 64)       0         \n",
      " g2D)                                                            \n",
      "                                                                 \n",
      " dropout_46 (Dropout)        (None, 16, 22, 64)        0         \n",
      "                                                                 \n",
      " flatten_15 (Flatten)        (None, 22528)             0         \n",
      "                                                                 \n",
      " dense_30 (Dense)            (None, 128)               2883712   \n",
      "                                                                 \n",
      " dropout_47 (Dropout)        (None, 128)               0         \n",
      "                                                                 \n",
      " dense_31 (Dense)            (None, 7)                 903       \n",
      "                                                                 \n",
      "=================================================================\n",
      "Total params: 3,017,607\n",
      "Trainable params: 3,017,607\n",
      "Non-trainable params: 0\n",
      "_________________________________________________________________\n"
     ]
    }
   ],
   "source": [
    "model.summary()"
   ]
  },
  {
   "cell_type": "code",
   "execution_count": 499,
   "metadata": {},
   "outputs": [
    {
     "name": "stderr",
     "output_type": "stream",
     "text": [
      "c:\\Users\\ozcan\\.pyenv\\pyenv-win\\versions\\3.10.7\\lib\\site-packages\\keras\\optimizers\\optimizer_v2\\adam.py:114: UserWarning: The `lr` argument is deprecated, use `learning_rate` instead.\n",
      "  super().__init__(name, **kwargs)\n"
     ]
    }
   ],
   "source": [
    "optimizer = Adam(lr=0.001, beta_1=0.9, beta_2=0.999, epsilon=None, decay=0.0, amsgrad=False)"
   ]
  },
  {
   "cell_type": "code",
   "execution_count": 500,
   "metadata": {},
   "outputs": [],
   "source": [
    "model.compile(optimizer = optimizer , loss = \"categorical_crossentropy\", metrics=[\"accuracy\"])\n",
    "learning_rate_reduction = keras.callbacks.ReduceLROnPlateau(monitor='accuracy', \n",
    "                                            patience=3, \n",
    "                                            verbose=1, \n",
    "                                            factor=0.5, \n",
    "                                            min_lr=0.00001)"
   ]
  },
  {
   "cell_type": "code",
   "execution_count": 501,
   "metadata": {},
   "outputs": [
    {
     "name": "stdout",
     "output_type": "stream",
     "text": [
      "Epoch 1/10\n",
      "160/160 [==============================] - 20s 123ms/step - loss: 7.5857 - accuracy: 0.6137 - val_loss: 1.7545 - val_accuracy: 0.7000 - lr: 0.0010\n",
      "Epoch 2/10\n",
      "160/160 [==============================] - ETA: 0s - loss: 1.2999 - accuracy: 0.6562"
     ]
    }
   ],
   "source": [
    "epochs = 10\n",
    "batch_size = 5\n",
    "\n",
    "\n",
    "model.fit(x=X_train, y=y_train, epochs=epochs, batch_size=batch_size, callbacks=[learning_rate_reduction], validation_data=(X_test, y_test))"
   ]
  },
  {
   "cell_type": "code",
   "execution_count": null,
   "metadata": {},
   "outputs": [
    {
     "name": "stdout",
     "output_type": "stream",
     "text": [
      "1/1 [==============================] - 0s 226ms/step - loss: 1.0227 - accuracy: 0.5500\n"
     ]
    },
    {
     "data": {
      "text/plain": [
       "[1.0227314233779907, 0.550000011920929]"
      ]
     },
     "execution_count": 460,
     "metadata": {},
     "output_type": "execute_result"
    }
   ],
   "source": [
    "model.evaluate(x=X_test, y=y_test)"
   ]
  }
 ],
 "metadata": {
  "kernelspec": {
   "display_name": "Python 3.10.7 64-bit ('3.10.7')",
   "language": "python",
   "name": "python3"
  },
  "language_info": {
   "codemirror_mode": {
    "name": "ipython",
    "version": 3
   },
   "file_extension": ".py",
   "mimetype": "text/x-python",
   "name": "python",
   "nbconvert_exporter": "python",
   "pygments_lexer": "ipython3",
   "version": "3.10.7"
  },
  "orig_nbformat": 4,
  "vscode": {
   "interpreter": {
    "hash": "d70bd6a9e005d68073ea59e90f6dfdeff778b4433ba0163b3a2a4f4e9067ade0"
   }
  }
 },
 "nbformat": 4,
 "nbformat_minor": 2
}
