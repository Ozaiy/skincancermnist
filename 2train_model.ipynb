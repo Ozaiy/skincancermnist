{
 "cells": [
  {
   "cell_type": "code",
   "execution_count": 206,
   "metadata": {},
   "outputs": [],
   "source": [
    "import pandas as pd\n",
    "import numpy as np \n",
    "import imageio as iio\n",
    "import matplotlib.pyplot as plt\n",
    "from keras.models import Sequential \n",
    "from keras.layers import Dense, Conv2D, Flatten, MaxPooling2D, Input\n",
    "from sklearn.preprocessing import LabelEncoder, OneHotEncoder\n"
   ]
  },
  {
   "cell_type": "code",
   "execution_count": 207,
   "metadata": {},
   "outputs": [],
   "source": [
    "\n",
    "MAX_PICTURES = 100"
   ]
  },
  {
   "cell_type": "code",
   "execution_count": 208,
   "metadata": {},
   "outputs": [],
   "source": [
    "df = pd.read_csv('merged.csv', index_col=0)"
   ]
  },
  {
   "cell_type": "code",
   "execution_count": 209,
   "metadata": {},
   "outputs": [],
   "source": [
    "df = df.sample(frac=1).reset_index(drop=True)"
   ]
  },
  {
   "cell_type": "code",
   "execution_count": 210,
   "metadata": {},
   "outputs": [],
   "source": [
    "# read first 1000 images from dataframe \n",
    "image_list = list()\n",
    "for image in df['image_path'][0:MAX_PICTURES]:\n",
    "    im = iio.imread(image)\n",
    "    image_list.append(im)\n"
   ]
  },
  {
   "cell_type": "code",
   "execution_count": 211,
   "metadata": {},
   "outputs": [],
   "source": [
    "mel_dict = {\n",
    "    'akiec': 'Actinic keratosis-like lesions',\n",
    "    'bcc': 'basal cell carcinoma',\n",
    "    'bkl': 'benign keratosis',\n",
    "    'df': 'dermatofibroma',\n",
    "    'mel': 'melanoma',\n",
    "    'nv': 'melanocytic nevi',\n",
    "    'vasc': 'vascular lesions / hemorrhage'\n",
    "}"
   ]
  },
  {
   "cell_type": "code",
   "execution_count": 212,
   "metadata": {},
   "outputs": [
    {
     "data": {
      "text/html": [
       "<div>\n",
       "<style scoped>\n",
       "    .dataframe tbody tr th:only-of-type {\n",
       "        vertical-align: middle;\n",
       "    }\n",
       "\n",
       "    .dataframe tbody tr th {\n",
       "        vertical-align: top;\n",
       "    }\n",
       "\n",
       "    .dataframe thead th {\n",
       "        text-align: right;\n",
       "    }\n",
       "</style>\n",
       "<table border=\"1\" class=\"dataframe\">\n",
       "  <thead>\n",
       "    <tr style=\"text-align: right;\">\n",
       "      <th></th>\n",
       "      <th>lesion_id</th>\n",
       "      <th>image_id</th>\n",
       "      <th>dx</th>\n",
       "      <th>dx_type</th>\n",
       "      <th>age</th>\n",
       "      <th>sex</th>\n",
       "      <th>localization</th>\n",
       "      <th>image_path</th>\n",
       "    </tr>\n",
       "  </thead>\n",
       "  <tbody>\n",
       "    <tr>\n",
       "      <th>7627</th>\n",
       "      <td>HAM_0005190</td>\n",
       "      <td>ISIC_0032700</td>\n",
       "      <td>nv</td>\n",
       "      <td>histo</td>\n",
       "      <td>40.0</td>\n",
       "      <td>female</td>\n",
       "      <td>back</td>\n",
       "      <td>data/ham10000_images_part_2/ISIC_0032700.jpg</td>\n",
       "    </tr>\n",
       "    <tr>\n",
       "      <th>2967</th>\n",
       "      <td>HAM_0004685</td>\n",
       "      <td>ISIC_0030767</td>\n",
       "      <td>bcc</td>\n",
       "      <td>histo</td>\n",
       "      <td>75.0</td>\n",
       "      <td>male</td>\n",
       "      <td>scalp</td>\n",
       "      <td>data/ham10000_images_part_2/ISIC_0030767.jpg</td>\n",
       "    </tr>\n",
       "    <tr>\n",
       "      <th>9262</th>\n",
       "      <td>HAM_0005531</td>\n",
       "      <td>ISIC_0024577</td>\n",
       "      <td>nv</td>\n",
       "      <td>consensus</td>\n",
       "      <td>45.0</td>\n",
       "      <td>male</td>\n",
       "      <td>lower extremity</td>\n",
       "      <td>data/ham10000_images_part_1/ISIC_0024577.jpg</td>\n",
       "    </tr>\n",
       "    <tr>\n",
       "      <th>1528</th>\n",
       "      <td>HAM_0005368</td>\n",
       "      <td>ISIC_0034087</td>\n",
       "      <td>mel</td>\n",
       "      <td>histo</td>\n",
       "      <td>45.0</td>\n",
       "      <td>male</td>\n",
       "      <td>chest</td>\n",
       "      <td>data/ham10000_images_part_2/ISIC_0034087.jpg</td>\n",
       "    </tr>\n",
       "    <tr>\n",
       "      <th>913</th>\n",
       "      <td>HAM_0003787</td>\n",
       "      <td>ISIC_0030630</td>\n",
       "      <td>bkl</td>\n",
       "      <td>consensus</td>\n",
       "      <td>70.0</td>\n",
       "      <td>male</td>\n",
       "      <td>chest</td>\n",
       "      <td>data/ham10000_images_part_2/ISIC_0030630.jpg</td>\n",
       "    </tr>\n",
       "  </tbody>\n",
       "</table>\n",
       "</div>"
      ],
      "text/plain": [
       "        lesion_id      image_id   dx    dx_type   age     sex  \\\n",
       "7627  HAM_0005190  ISIC_0032700   nv      histo  40.0  female   \n",
       "2967  HAM_0004685  ISIC_0030767  bcc      histo  75.0    male   \n",
       "9262  HAM_0005531  ISIC_0024577   nv  consensus  45.0    male   \n",
       "1528  HAM_0005368  ISIC_0034087  mel      histo  45.0    male   \n",
       "913   HAM_0003787  ISIC_0030630  bkl  consensus  70.0    male   \n",
       "\n",
       "         localization                                    image_path  \n",
       "7627             back  data/ham10000_images_part_2/ISIC_0032700.jpg  \n",
       "2967            scalp  data/ham10000_images_part_2/ISIC_0030767.jpg  \n",
       "9262  lower extremity  data/ham10000_images_part_1/ISIC_0024577.jpg  \n",
       "1528            chest  data/ham10000_images_part_2/ISIC_0034087.jpg  \n",
       "913             chest  data/ham10000_images_part_2/ISIC_0030630.jpg  "
      ]
     },
     "execution_count": 212,
     "metadata": {},
     "output_type": "execute_result"
    }
   ],
   "source": [
    "# should be random every time\n",
    "df.head()"
   ]
  },
  {
   "cell_type": "code",
   "execution_count": 213,
   "metadata": {},
   "outputs": [],
   "source": [
    "SPLIT = MAX_PICTURES / 0.80 \n",
    "SPLIT = round(SPLIT)\n",
    "x_train = image_array.reshape(MAX_PICTURES,450,600,3)\n",
    "x_test = x_train[SPLIT:MAX_PICTURES]\n",
    "x_train = x_train[0:SPLIT]\n",
    "\n",
    "y = df['dx'][0:MAX_PICTURES].values\n",
    "\n",
    "y_train = y[0:SPLIT]\n",
    "y_test = y_train[SPLIT:MAX_PICTURES]\n",
    "\n",
    "x_train = x_train / 255\n",
    "x_test = x_test / 255"
   ]
  },
  {
   "cell_type": "code",
   "execution_count": 214,
   "metadata": {},
   "outputs": [],
   "source": [
    "\n",
    "\n",
    "model = Sequential()\n",
    "model.add(Input(shape=(450,600,3)))\n",
    "model.add(Conv2D(32, (3, 3), activation='relu'))\n",
    "model.add(MaxPooling2D((2, 2)))\n",
    "model.add(Conv2D(64, (3, 3), activation='relu'))\n",
    "model.add(MaxPooling2D((2, 2)))\n",
    "model.add(Conv2D(64, (3, 3), activation='relu'))\n",
    "\n",
    "model.add(Flatten())\n",
    "model.add(Dense(64, activation='relu'))\n",
    "model.add(Dense(7))\n",
    "\n",
    "y_encoded = LabelEncoder()\n",
    "y_train = y_encoded.fit_transform(y_train)"
   ]
  },
  {
   "cell_type": "code",
   "execution_count": 215,
   "metadata": {},
   "outputs": [],
   "source": [
    "model.compile(loss='binary_crossentropy', optimizer='adam', metrics=['accuracy'])"
   ]
  },
  {
   "cell_type": "code",
   "execution_count": 216,
   "metadata": {},
   "outputs": [
    {
     "name": "stdout",
     "output_type": "stream",
     "text": [
      "Model: \"sequential_10\"\n",
      "_________________________________________________________________\n",
      " Layer (type)                Output Shape              Param #   \n",
      "=================================================================\n",
      " conv2d_30 (Conv2D)          (None, 448, 598, 32)      896       \n",
      "                                                                 \n",
      " max_pooling2d_20 (MaxPoolin  (None, 224, 299, 32)     0         \n",
      " g2D)                                                            \n",
      "                                                                 \n",
      " conv2d_31 (Conv2D)          (None, 222, 297, 64)      18496     \n",
      "                                                                 \n",
      " max_pooling2d_21 (MaxPoolin  (None, 111, 148, 64)     0         \n",
      " g2D)                                                            \n",
      "                                                                 \n",
      " conv2d_32 (Conv2D)          (None, 109, 146, 64)      36928     \n",
      "                                                                 \n",
      " flatten_10 (Flatten)        (None, 1018496)           0         \n",
      "                                                                 \n",
      " dense_20 (Dense)            (None, 64)                65183808  \n",
      "                                                                 \n",
      " dense_21 (Dense)            (None, 7)                 455       \n",
      "                                                                 \n",
      "=================================================================\n",
      "Total params: 65,240,583\n",
      "Trainable params: 65,240,583\n",
      "Non-trainable params: 0\n",
      "_________________________________________________________________\n"
     ]
    }
   ],
   "source": [
    "model.summary()"
   ]
  },
  {
   "cell_type": "code",
   "execution_count": 219,
   "metadata": {},
   "outputs": [
    {
     "name": "stdout",
     "output_type": "stream",
     "text": [
      "Epoch 1/10\n",
      "4/4 [==============================] - 11s 2s/step - loss: 12.3060 - accuracy: 0.0200\n",
      "Epoch 2/10\n",
      "4/4 [==============================] - 11s 2s/step - loss: 0.0699 - accuracy: 0.0100\n",
      "Epoch 3/10\n",
      "4/4 [==============================] - 11s 3s/step - loss: 0.0699 - accuracy: 0.0100\n",
      "Epoch 4/10\n",
      "4/4 [==============================] - 11s 3s/step - loss: 0.0699 - accuracy: 0.0100\n",
      "Epoch 5/10\n",
      "4/4 [==============================] - 11s 2s/step - loss: 0.0699 - accuracy: 0.0100\n",
      "Epoch 6/10\n",
      "4/4 [==============================] - 11s 3s/step - loss: 0.0699 - accuracy: 0.0100\n",
      "Epoch 7/10\n",
      "4/4 [==============================] - 11s 3s/step - loss: 0.0699 - accuracy: 0.0100\n",
      "Epoch 8/10\n",
      "4/4 [==============================] - 12s 3s/step - loss: 0.0699 - accuracy: 0.0100\n",
      "Epoch 9/10\n",
      "4/4 [==============================] - 11s 2s/step - loss: 0.0699 - accuracy: 0.0100\n",
      "Epoch 10/10\n",
      "4/4 [==============================] - 11s 3s/step - loss: 0.0699 - accuracy: 0.0100\n"
     ]
    },
    {
     "data": {
      "text/plain": [
       "<keras.callbacks.History at 0x7fa6ec97aca0>"
      ]
     },
     "execution_count": 219,
     "metadata": {},
     "output_type": "execute_result"
    }
   ],
   "source": [
    "model.fit(x_train, y_train, epochs=10)"
   ]
  }
 ],
 "metadata": {
  "interpreter": {
   "hash": "916dbcbb3f70747c44a77c7bcd40155683ae19c65e1c03b4aa3499c5328201f1"
  },
  "kernelspec": {
   "display_name": "Python 3.9.7 64-bit",
   "language": "python",
   "name": "python3"
  },
  "language_info": {
   "codemirror_mode": {
    "name": "ipython",
    "version": 3
   },
   "file_extension": ".py",
   "mimetype": "text/x-python",
   "name": "python",
   "nbconvert_exporter": "python",
   "pygments_lexer": "ipython3",
   "version": "3.9.7"
  },
  "orig_nbformat": 4
 },
 "nbformat": 4,
 "nbformat_minor": 2
}
